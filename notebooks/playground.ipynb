{
 "cells": [
  {
   "cell_type": "code",
   "execution_count": 8,
   "id": "ebfd5703",
   "metadata": {},
   "outputs": [],
   "source": [
    "import yfinance as yf\n",
    "import pandas as pd\n",
    "from ta.trend import EMAIndicator\n",
    "from curl_cffi import requests\n",
    "session = requests.Session(impersonate=\"chrome\")\n"
   ]
  },
  {
   "cell_type": "code",
   "execution_count": 14,
   "id": "e1d496db",
   "metadata": {},
   "outputs": [],
   "source": [
    "def fetch_stock_data(ticker, period='1y', interval='1d'):\n",
    "    \"\"\"\n",
    "    Fetch stock data for a given ticker symbol.\n",
    "    Args:\n",
    "        ticker (str): Stock ticker symbol.\n",
    "        period (str): Data period (default is '1y').\n",
    "        interval (str): Data interval (default is '1d').\n",
    "    Returns:\n",
    "        pd.DataFrame: DataFrame containing stock data.  \n",
    "    \"\"\"\n",
    "    df=ticker.history(period=\"1y\", interval=\"1d\", auto_adjust=True).reset_index()\n",
    "    print(f\"Fetched data for {ticker}:\")\n",
    "    df.dropna(inplace=True)\n",
    "    return df"
   ]
  },
  {
   "cell_type": "code",
   "execution_count": 15,
   "id": "9f328ccc",
   "metadata": {},
   "outputs": [
    {
     "name": "stdout",
     "output_type": "stream",
     "text": [
      "Fetched data for yfinance.Ticker object <^NSEI>:\n"
     ]
    },
    {
     "ename": "AttributeError",
     "evalue": "'int' object has no attribute 'date'",
     "output_type": "error",
     "traceback": [
      "\u001b[1;31m---------------------------------------------------------------------------\u001b[0m",
      "\u001b[1;31mAttributeError\u001b[0m                            Traceback (most recent call last)",
      "Cell \u001b[1;32mIn[15], line 5\u001b[0m\n\u001b[0;32m      3\u001b[0m index_data \u001b[38;5;241m=\u001b[39m fetch_stock_data(index)\n\u001b[0;32m      4\u001b[0m index_return \u001b[38;5;241m=\u001b[39m index_data[\u001b[38;5;124m'\u001b[39m\u001b[38;5;124mClose\u001b[39m\u001b[38;5;124m'\u001b[39m]\u001b[38;5;241m.\u001b[39miloc[\u001b[38;5;241m-\u001b[39m\u001b[38;5;241m1\u001b[39m] \u001b[38;5;241m/\u001b[39m index_data[\u001b[38;5;124m'\u001b[39m\u001b[38;5;124mClose\u001b[39m\u001b[38;5;124m'\u001b[39m]\u001b[38;5;241m.\u001b[39miloc[\u001b[38;5;241m-\u001b[39mrs_period]\n\u001b[1;32m----> 5\u001b[0m index_date \u001b[38;5;241m=\u001b[39m \u001b[43mindex_data\u001b[49m\u001b[38;5;241;43m.\u001b[39;49m\u001b[43mindex\u001b[49m\u001b[43m[\u001b[49m\u001b[38;5;241;43m-\u001b[39;49m\u001b[38;5;241;43m1\u001b[39;49m\u001b[43m]\u001b[49m\u001b[38;5;241;43m.\u001b[39;49m\u001b[43mdate\u001b[49m()\u001b[38;5;241m.\u001b[39mstrftime(\u001b[38;5;124m\"\u001b[39m\u001b[38;5;124m%\u001b[39m\u001b[38;5;124mY-\u001b[39m\u001b[38;5;124m%\u001b[39m\u001b[38;5;124mm-\u001b[39m\u001b[38;5;132;01m%d\u001b[39;00m\u001b[38;5;124m\"\u001b[39m)\n",
      "\u001b[1;31mAttributeError\u001b[0m: 'int' object has no attribute 'date'"
     ]
    }
   ],
   "source": [
    "index_ticker = \"^NSEI\"\n",
    "index = yf.Ticker(index_ticker,session=session)\n",
    "index_data = fetch_stock_data(index)\n",
    "index_return = index_data['Close'].iloc[-1] / index_data['Close'].iloc[-rs_period]\n",
    "index_date = index_data.index[-1].date().strftime(\"%Y-%m-%d\")"
   ]
  },
  {
   "cell_type": "code",
   "execution_count": 19,
   "id": "6a1e385f",
   "metadata": {},
   "outputs": [
    {
     "data": {
      "text/plain": [
       "'2025-05-23'"
      ]
     },
     "execution_count": 19,
     "metadata": {},
     "output_type": "execute_result"
    }
   ],
   "source": [
    "index_data.iloc[-1]['Date'].date().strftime(\"%Y-%m-%d\")"
   ]
  },
  {
   "cell_type": "code",
   "execution_count": null,
   "id": "135af92c",
   "metadata": {},
   "outputs": [],
   "source": []
  }
 ],
 "metadata": {
  "kernelspec": {
   "display_name": "Python 3",
   "language": "python",
   "name": "python3"
  },
  "language_info": {
   "codemirror_mode": {
    "name": "ipython",
    "version": 3
   },
   "file_extension": ".py",
   "mimetype": "text/x-python",
   "name": "python",
   "nbconvert_exporter": "python",
   "pygments_lexer": "ipython3",
   "version": "3.11.9"
  }
 },
 "nbformat": 4,
 "nbformat_minor": 5
}
