{
 "cells": [
  {
   "cell_type": "code",
   "execution_count": 1,
   "id": "ebfd5703",
   "metadata": {},
   "outputs": [],
   "source": [
    "import yfinance as yf\n",
    "from curl_cffi import requests\n",
    "session = requests.Session(impersonate=\"chrome\")"
   ]
  },
  {
   "cell_type": "code",
   "execution_count": 2,
   "id": "75ddd260",
   "metadata": {},
   "outputs": [],
   "source": [
    "def fetch_stock_data(ticker, period='1y', interval='1d'):\n",
    "    df = yf.download(ticker, period=period, interval=interval,session=session)\n",
    "    print(f\"Fetched data for {ticker}:\")\n",
    "    df.dropna(inplace=True)\n",
    "    return df"
   ]
  },
  {
   "cell_type": "code",
   "execution_count": null,
   "id": "f62a4290",
   "metadata": {},
   "outputs": [],
   "source": [
    "def get_relative_strength_index(ticker_data,index_return, period=rs_period):\n",
    "    ticker_returns = ticker_data['Close'].iloc[-1]/ticker_data['Close'].iloc[-100] - 1\n",
    "    ticker_returns = ticker_returns.values[0]\n",
    "    rs = ticker_returns / index_return\n",
    "    return rs"
   ]
  },
  {
   "cell_type": "code",
   "execution_count": 21,
   "id": "9f328ccc",
   "metadata": {},
   "outputs": [
    {
     "name": "stderr",
     "output_type": "stream",
     "text": [
      "[*********************100%***********************]  1 of 1 completed\n",
      "[*********************100%***********************]  1 of 1 completed"
     ]
    },
    {
     "name": "stdout",
     "output_type": "stream",
     "text": [
      "Fetched data for INFY.NS:\n",
      "Fetched data for ^NSEI:\n"
     ]
    },
    {
     "name": "stderr",
     "output_type": "stream",
     "text": [
      "\n"
     ]
    }
   ],
   "source": [
    "rs_period = 100\n",
    "ticker=\"INFY.NS\"\n",
    "ticker_data = fetch_stock_data(ticker)\n",
    "ticker=\"^NSEI\"\n",
    "index_data = fetch_stock_data(ticker)\n",
    "index_return = index_data['Close'].iloc[-1]/index_data['Close'].iloc[rs_period] - 1\n",
    "index_return = index_return.values[0]"
   ]
  },
  {
   "cell_type": "code",
   "execution_count": 17,
   "id": "435b11b0",
   "metadata": {},
   "outputs": [
    {
     "data": {
      "text/plain": [
       "Ticker\n",
       "INFY.NS   NaN\n",
       "^NSEI     NaN\n",
       "dtype: float64"
      ]
     },
     "execution_count": 17,
     "metadata": {},
     "output_type": "execute_result"
    }
   ],
   "source": [
    "get_relative_strength_index(ticker_data,index_return,rs_period)"
   ]
  },
  {
   "cell_type": "code",
   "execution_count": 20,
   "id": "2c84dad2",
   "metadata": {},
   "outputs": [
    {
     "data": {
      "text/plain": [
       "np.float64(-0.0047314471785031564)"
      ]
     },
     "execution_count": 20,
     "metadata": {},
     "output_type": "execute_result"
    }
   ],
   "source": [
    "index_return.values[0]"
   ]
  },
  {
   "cell_type": "code",
   "execution_count": null,
   "id": "5e692c4e",
   "metadata": {},
   "outputs": [],
   "source": []
  }
 ],
 "metadata": {
  "kernelspec": {
   "display_name": "Python 3",
   "language": "python",
   "name": "python3"
  },
  "language_info": {
   "codemirror_mode": {
    "name": "ipython",
    "version": 3
   },
   "file_extension": ".py",
   "mimetype": "text/x-python",
   "name": "python",
   "nbconvert_exporter": "python",
   "pygments_lexer": "ipython3",
   "version": "3.11.9"
  }
 },
 "nbformat": 4,
 "nbformat_minor": 5
}
